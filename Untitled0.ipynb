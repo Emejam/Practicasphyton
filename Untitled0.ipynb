{
  "nbformat": 4,
  "nbformat_minor": 0,
  "metadata": {
    "colab": {
      "provenance": [],
      "authorship_tag": "ABX9TyOIWtB+NVELup/LJGdZPbR6",
      "include_colab_link": true
    },
    "kernelspec": {
      "name": "python3",
      "display_name": "Python 3"
    },
    "language_info": {
      "name": "python"
    }
  },
  "cells": [
    {
      "cell_type": "markdown",
      "metadata": {
        "id": "view-in-github",
        "colab_type": "text"
      },
      "source": [
        "<a href=\"https://colab.research.google.com/github/Emejam/Practicasphyton/blob/main/Untitled0.ipynb\" target=\"_parent\"><img src=\"https://colab.research.google.com/assets/colab-badge.svg\" alt=\"Open In Colab\"/></a>"
      ]
    },
    {
      "cell_type": "code",
      "execution_count": null,
      "metadata": {
        "id": "J46Gsh7P_-JD"
      },
      "outputs": [],
      "source": []
    },
    {
      "cell_type": "markdown",
      "source": [
        "# Mi primer programa en phyton"
      ],
      "metadata": {
        "id": "1Bed_6CxAkag"
      }
    },
    {
      "cell_type": "code",
      "source": [
        "print(\"Hola mundo\")\n"
      ],
      "metadata": {
        "colab": {
          "base_uri": "https://localhost:8080/"
        },
        "id": "H0kltQYWA7-e",
        "outputId": "18a6f3b8-ebce-4269-d509-e8f568c2e0a5"
      },
      "execution_count": null,
      "outputs": [
        {
          "output_type": "stream",
          "name": "stdout",
          "text": [
            "Hola mundo\n"
          ]
        }
      ]
    },
    {
      "cell_type": "code",
      "source": [
        "kulu=\"adios mundo\"\n",
        "print(kulu)"
      ],
      "metadata": {
        "colab": {
          "base_uri": "https://localhost:8080/"
        },
        "id": "-J5W1Vv9D3vC",
        "outputId": "4be3847b-b06e-4fac-9f5e-82f8b641703f"
      },
      "execution_count": null,
      "outputs": [
        {
          "output_type": "stream",
          "name": "stdout",
          "text": [
            "adios mundo\n"
          ]
        }
      ]
    },
    {
      "cell_type": "code",
      "source": [
        "kulu.split()}"
      ],
      "metadata": {
        "colab": {
          "base_uri": "https://localhost:8080/"
        },
        "id": "kEIDNTFpEMf4",
        "outputId": "d32572b5-a073-4947-c3e1-a5a09d30007c"
      },
      "execution_count": null,
      "outputs": [
        {
          "output_type": "execute_result",
          "data": {
            "text/plain": [
              "['adios', 'mundo']"
            ]
          },
          "metadata": {},
          "execution_count": 3
        }
      ]
    },
    {
      "cell_type": "markdown",
      "source": [],
      "metadata": {
        "id": "v0jXd_6Z4Qkf"
      }
    },
    {
      "cell_type": "markdown",
      "source": [
        "#Variables\n",
        "##Tipo texto"
      ],
      "metadata": {
        "id": "i-OafNTz4jqY"
      }
    },
    {
      "cell_type": "code",
      "source": [
        "t1 = \"Hola\"\n",
        "t2 = \"hola\"\n",
        "\n",
        "t1 == t2\n"
      ],
      "metadata": {
        "colab": {
          "base_uri": "https://localhost:8080/"
        },
        "id": "wwpjvgNL4qyp",
        "outputId": "fe4914ad-a5e1-4648-cd49-db27f0990f3a"
      },
      "execution_count": null,
      "outputs": [
        {
          "output_type": "execute_result",
          "data": {
            "text/plain": [
              "False"
            ]
          },
          "metadata": {},
          "execution_count": 2
        }
      ]
    },
    {
      "cell_type": "code",
      "source": [
        "t3 = \"mi nombre es max, y tengo 22 años\"\n",
        "v1 = t3.split(\",\")\n",
        "v1"
      ],
      "metadata": {
        "colab": {
          "base_uri": "https://localhost:8080/"
        },
        "id": "K0WEOGSt6yQy",
        "outputId": "f637d0e9-5082-4f38-b12e-503874e417cf"
      },
      "execution_count": null,
      "outputs": [
        {
          "output_type": "execute_result",
          "data": {
            "text/plain": [
              "['mi nombre es max', ' y tengo 22 años']"
            ]
          },
          "metadata": {},
          "execution_count": 10
        }
      ]
    },
    {
      "cell_type": "code",
      "source": [
        "print (t1 + \" mucho gusto \" + t3)"
      ],
      "metadata": {
        "colab": {
          "base_uri": "https://localhost:8080/"
        },
        "id": "Ofxxm_RFCjy7",
        "outputId": "148ace1a-5a84-4277-a8dc-21e55ada7752"
      },
      "execution_count": null,
      "outputs": [
        {
          "output_type": "stream",
          "name": "stdout",
          "text": [
            "Hola mucho gusto mi nombre es max, y tengo 22 años\n"
          ]
        }
      ]
    },
    {
      "cell_type": "code",
      "source": [
        "print (f\"{t1} Mucho gusto {t3}\" )"
      ],
      "metadata": {
        "colab": {
          "base_uri": "https://localhost:8080/"
        },
        "id": "sN-iRbi0DRNJ",
        "outputId": "a33d7899-cb2e-4c1b-971d-620c06b4a7bc"
      },
      "execution_count": null,
      "outputs": [
        {
          "output_type": "stream",
          "name": "stdout",
          "text": [
            "Hola Mucho gusto mi nombre es max, y tengo 22 años\n"
          ]
        }
      ]
    },
    {
      "cell_type": "markdown",
      "source": [
        "##Numericas"
      ],
      "metadata": {
        "id": "hDlpJlVrGRE9"
      }
    },
    {
      "cell_type": "code",
      "source": [
        "a = 24\n",
        "x = .89\n"
      ],
      "metadata": {
        "id": "lfQ11WY2GTWj"
      },
      "execution_count": null,
      "outputs": []
    },
    {
      "cell_type": "code",
      "source": [
        "a + x"
      ],
      "metadata": {
        "colab": {
          "base_uri": "https://localhost:8080/"
        },
        "id": "13IPqphQGsBj",
        "outputId": "f8feb048-083c-44fc-b00b-70e9df59324c"
      },
      "execution_count": null,
      "outputs": [
        {
          "output_type": "execute_result",
          "data": {
            "text/plain": [
              "24.89"
            ]
          },
          "metadata": {},
          "execution_count": 14
        }
      ]
    },
    {
      "cell_type": "code",
      "source": [
        "a - x"
      ],
      "metadata": {
        "colab": {
          "base_uri": "https://localhost:8080/"
        },
        "id": "qKpmoIXCGvOq",
        "outputId": "7feeca4f-16c3-4e39-9908-53c84a0bd9f8"
      },
      "execution_count": null,
      "outputs": [
        {
          "output_type": "execute_result",
          "data": {
            "text/plain": [
              "23.11"
            ]
          },
          "metadata": {},
          "execution_count": 15
        }
      ]
    },
    {
      "cell_type": "code",
      "source": [
        "a * x"
      ],
      "metadata": {
        "colab": {
          "base_uri": "https://localhost:8080/"
        },
        "id": "PnoMmDqUG1g5",
        "outputId": "a48bf32d-3699-454c-81e4-f730c47a3990"
      },
      "execution_count": null,
      "outputs": [
        {
          "output_type": "execute_result",
          "data": {
            "text/plain": [
              "21.36"
            ]
          },
          "metadata": {},
          "execution_count": 16
        }
      ]
    },
    {
      "cell_type": "code",
      "source": [
        "a / x"
      ],
      "metadata": {
        "colab": {
          "base_uri": "https://localhost:8080/"
        },
        "id": "7pPmrandG6Oi",
        "outputId": "1e911a71-595a-49dc-bad3-93a466959682"
      },
      "execution_count": null,
      "outputs": [
        {
          "output_type": "execute_result",
          "data": {
            "text/plain": [
              "26.96629213483146"
            ]
          },
          "metadata": {},
          "execution_count": 17
        }
      ]
    },
    {
      "cell_type": "code",
      "source": [
        "b = 13\n",
        "c = 3"
      ],
      "metadata": {
        "id": "1nkuRv5KHIay"
      },
      "execution_count": null,
      "outputs": []
    },
    {
      "cell_type": "code",
      "source": [
        "b // c #funcion modulo dice cuantas veces cabe en enteros"
      ],
      "metadata": {
        "colab": {
          "base_uri": "https://localhost:8080/"
        },
        "id": "PrNtEYwKHWek",
        "outputId": "b6c769e6-c739-4771-a283-a18eb0df35f6"
      },
      "execution_count": null,
      "outputs": [
        {
          "output_type": "execute_result",
          "data": {
            "text/plain": [
              "4"
            ]
          },
          "metadata": {},
          "execution_count": 21
        }
      ]
    },
    {
      "cell_type": "code",
      "source": [
        "b % c # nos da el residuo de cuantas veces cabe y cuanto sobra osea el residuo del modulo"
      ],
      "metadata": {
        "colab": {
          "base_uri": "https://localhost:8080/"
        },
        "id": "lK1paIQeHoQV",
        "outputId": "0b079e9e-13a5-483c-938f-8841dad74847"
      },
      "execution_count": null,
      "outputs": [
        {
          "output_type": "execute_result",
          "data": {
            "text/plain": [
              "1"
            ]
          },
          "metadata": {},
          "execution_count": 22
        }
      ]
    },
    {
      "cell_type": "code",
      "source": [
        "2**2 #potencias"
      ],
      "metadata": {
        "colab": {
          "base_uri": "https://localhost:8080/"
        },
        "id": "FvhS_qT4H2Ql",
        "outputId": "9e708334-6017-4acc-d246-0cca0435e12d"
      },
      "execution_count": null,
      "outputs": [
        {
          "output_type": "execute_result",
          "data": {
            "text/plain": [
              "4"
            ]
          },
          "metadata": {},
          "execution_count": 23
        }
      ]
    },
    {
      "cell_type": "code",
      "source": [],
      "metadata": {
        "id": "vqp3UVvwI4io"
      },
      "execution_count": null,
      "outputs": []
    },
    {
      "cell_type": "markdown",
      "source": [
        "Vendemos pantalones, y los vendemos en paquetes de 4 pantalones por 350 pesos actualmente tenemos un stock de 57 pantalones y yo quiero saber cual va a ser mi ingreso monetario si vendo todos los paquetes que armo y cada pantalon individual lo vendo en 50 pesos"
      ],
      "metadata": {
        "id": "OLYv4M0TIQcl"
      }
    },
    {
      "cell_type": "code",
      "source": [
        "paquetes = 57//4  #modulo\n",
        "individuales = 57 % 4 #Residuo\n",
        "\n",
        "print (f\"Por la venta de {paquetes} paquetes de pantalones recibire ${paquetes * 350}. Ademas por la venta de {individuales} pantalon recibire ${individuales * 50}. Dando un total de ${paquetes * 350 + individuales * 50} \")"
      ],
      "metadata": {
        "colab": {
          "base_uri": "https://localhost:8080/"
        },
        "id": "Gf77m2FhIzai",
        "outputId": "54de42a1-6d06-4b82-e84f-d9b3562d47d6"
      },
      "execution_count": null,
      "outputs": [
        {
          "output_type": "stream",
          "name": "stdout",
          "text": [
            "Por la venta de 14 paquetes de pantalones recibire $4900. Ademas por la venta de 1 pantalon recibire $50. Dando un total de $4950 \n"
          ]
        }
      ]
    },
    {
      "cell_type": "code",
      "source": [
        "for i in range(21):\n",
        "    if i % 2 == 0:\n",
        "      print (i)"
      ],
      "metadata": {
        "colab": {
          "base_uri": "https://localhost:8080/"
        },
        "id": "IEstTMgpOhdy",
        "outputId": "23857182-5dcb-4078-8ba3-cb146d8beb5a"
      },
      "execution_count": null,
      "outputs": [
        {
          "output_type": "stream",
          "name": "stdout",
          "text": [
            "0\n",
            "2\n",
            "4\n",
            "6\n",
            "8\n",
            "10\n",
            "12\n",
            "14\n",
            "16\n",
            "18\n",
            "20\n"
          ]
        }
      ]
    }
  ]
}